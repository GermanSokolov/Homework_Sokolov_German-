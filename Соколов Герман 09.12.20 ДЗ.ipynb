{
 "cells": [
  {
   "cell_type": "markdown",
   "metadata": {},
   "source": [
    "# Регулярные выражения. Задания"
   ]
  },
  {
   "cell_type": "code",
   "execution_count": 1,
   "metadata": {},
   "outputs": [],
   "source": [
    "import re"
   ]
  },
  {
   "cell_type": "markdown",
   "metadata": {},
   "source": [
    "1) Дана строка 'aaa--bbb==ccc__ddd'. Написать регулярное выражение для разбивки строки на список ['aaa','bbb','ccc','ddd']."
   ]
  },
  {
   "cell_type": "code",
   "execution_count": 9,
   "metadata": {},
   "outputs": [
    {
     "name": "stdout",
     "output_type": "stream",
     "text": [
      "['aaa', 'bbb', 'ccc', 'ddd']\n"
     ]
    }
   ],
   "source": [
    "p= re.split(r'\\W|_','aaa-bbb=ccc_ddd')\n",
    "print(p)"
   ]
  },
  {
   "cell_type": "markdown",
   "metadata": {},
   "source": [
    "2) Получить первое слово из произвольной строки. Например, для 'Yesterday, All my troubles seemed so far away' должно возвращаться 'Yesterday'."
   ]
  },
  {
   "cell_type": "code",
   "execution_count": 11,
   "metadata": {},
   "outputs": [
    {
     "data": {
      "text/plain": [
       "'everithing'"
      ]
     },
     "execution_count": 11,
     "metadata": {},
     "output_type": "execute_result"
    }
   ],
   "source": [
    "a = 'everithing of my heart'\n",
    "p = re.compile(r'[a-zA-Z]+\\b')\n",
    "p.match(a).group()"
   ]
  },
  {
   "cell_type": "markdown",
   "metadata": {},
   "source": [
    "3) Получить последнее слово из произвольной строки."
   ]
  },
  {
   "cell_type": "code",
   "execution_count": 12,
   "metadata": {},
   "outputs": [
    {
     "data": {
      "text/plain": [
       "'heart'"
      ]
     },
     "execution_count": 12,
     "metadata": {},
     "output_type": "execute_result"
    }
   ],
   "source": [
    "p = re.compile(r'[a-zA-Z]+$')\n",
    "p.search(a).group()"
   ]
  },
  {
   "cell_type": "markdown",
   "metadata": {},
   "source": [
    "4) В следующем отрывке найти все слова, которые начинаются на гласную букву:"
   ]
  },
  {
   "cell_type": "code",
   "execution_count": 56,
   "metadata": {},
   "outputs": [],
   "source": [
    "s= '''My uncle -- high ideals inspire him;\n",
    "but when past joking he fell sick,\n",
    "he really forced one to admire him --\n",
    "and never played a shrewder trick.\n",
    "Let others learn from his example!\n",
    "But God, how deadly dull to sample\n",
    "sickroom attendance night and day\n",
    "and never stir a foot away!'''"
   ]
  },
  {
   "cell_type": "code",
   "execution_count": 57,
   "metadata": {},
   "outputs": [
    {
     "name": "stdout",
     "output_type": "stream",
     "text": [
      "['uncle', 'ideals', 'inspire', 'one', 'admire', 'and', 'others', 'example', 'attendance', 'and', 'and', 'away']\n"
     ]
    }
   ],
   "source": [
    "result = re.findall(r'\\b([a|e|y|u|i|o|A|E|Y|U|I|O][a-zA-Z]+)\\b', s)\n",
    "print(result)"
   ]
  },
  {
   "cell_type": "markdown",
   "metadata": {},
   "source": [
    "5) В этом же отрывке найти первое слово каждой строки"
   ]
  },
  {
   "cell_type": "code",
   "execution_count": 59,
   "metadata": {},
   "outputs": [
    {
     "name": "stdout",
     "output_type": "stream",
     "text": [
      "[]\n"
     ]
    }
   ],
   "source": [
    "result = re.findall(r'[a-zA-Z]+', s)\n",
    "print(result)"
   ]
  },
  {
   "cell_type": "markdown",
   "metadata": {},
   "source": [
    "6) Проверить корректность введенного E-mail"
   ]
  },
  {
   "cell_type": "code",
   "execution_count": 67,
   "metadata": {},
   "outputs": [
    {
     "name": "stdout",
     "output_type": "stream",
     "text": [
      "не соответствует\n",
      "соответствует\n"
     ]
    }
   ],
   "source": [
    "k='psjulogin@outlook.com'\n",
    "m='huhuhunter.me'\n",
    "p=re.compile(r'[a-zA-Z]+[@][a-zA-z]+[.com]')\n",
    "if p.search(m):\n",
    "    print('соответствует')\n",
    "else:\n",
    "    print('не соответствует')\n",
    "\n",
    "if p.search(k):\n",
    "    print('соответствует')\n",
    "else:\n",
    "    print('не соответствует')"
   ]
  },
  {
   "cell_type": "markdown",
   "metadata": {},
   "source": [
    "7) В следующей строке найти все email-адреса и вывести только доменные имена"
   ]
  },
  {
   "cell_type": "markdown",
   "metadata": {},
   "source": [
    "8) Проверить корректность введенного номера мобильного телефона. Корректными считаются: <br>\n",
    "+7(999)999-99-99  <br>\n",
    "+7 (999) 999-99-99  <br>\n",
    "+7 999 999-99-99 <br>\n",
    "+7 999 999 99 99 <br>\n",
    "+79999999999"
   ]
  },
  {
   "cell_type": "code",
   "execution_count": 77,
   "metadata": {},
   "outputs": [
    {
     "name": "stdout",
     "output_type": "stream",
     "text": [
      "соответствует\n",
      "не соответствует\n"
     ]
    }
   ],
   "source": [
    "k='2783yrf728y'\n",
    "m='+79999999999'\n",
    "p=re.compile(r'[+][7]([0-9]{3}|(\\([0-9]{3}\\)))([[0-9]{3}\\-[0-9]{2}\\-[0-9]{2}]|[[0-9]{3} [0-9]{2} [0-9]{2}]|[0-9]{7})')\n",
    "if p.search(m):\n",
    "    print('соответствует')\n",
    "else:\n",
    "    print('не соответствует')\n",
    "\n",
    "if p.search(k):\n",
    "    print('соответствует')\n",
    "else:\n",
    "    print('не соответствует')"
   ]
  },
  {
   "cell_type": "code",
   "execution_count": null,
   "metadata": {},
   "outputs": [],
   "source": []
  }
 ],
 "metadata": {
  "kernelspec": {
   "display_name": "Python 3",
   "language": "python",
   "name": "python3"
  },
  "language_info": {
   "codemirror_mode": {
    "name": "ipython",
    "version": 3
   },
   "file_extension": ".py",
   "mimetype": "text/x-python",
   "name": "python",
   "nbconvert_exporter": "python",
   "pygments_lexer": "ipython3",
   "version": "3.8.3"
  }
 },
 "nbformat": 4,
 "nbformat_minor": 2
}
